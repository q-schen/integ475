{
 "cells": [
  {
   "cell_type": "markdown",
   "metadata": {},
   "source": [
    "# Tumblr Post Network Graphs\n",
    "Replicating the Tumblr Labs Network Graphs using networkx.\n",
    "\n",
    "By Q Chen and Stephanie Ye-Mowe"
   ]
  },
  {
   "cell_type": "code",
   "execution_count": null,
   "metadata": {
    "collapsed": true
   },
   "outputs": [],
   "source": []
  },
  {
   "cell_type": "code",
   "execution_count": 47,
   "metadata": {
    "collapsed": true
   },
   "outputs": [],
   "source": [
    "## Import libraries\n",
    "import networkx as nx\n",
    "import matplotlib.pyplot as plt\n",
    "import numpy as np\n",
    "import pandas as pd\n",
    "from urllib.request import urlopen\n",
    "from bs4 import BeautifulSoup\n",
    "import string\n",
    "import re"
   ]
  },
  {
   "cell_type": "code",
   "execution_count": null,
   "metadata": {
    "collapsed": true
   },
   "outputs": [],
   "source": []
  },
  {
   "cell_type": "code",
   "execution_count": 48,
   "metadata": {
    "collapsed": true
   },
   "outputs": [],
   "source": [
    "url = \"http://cleyra.tumblr.com/post/150293436056/use-this-resume-template-for-all-your-jobs\" # Assigns variable \"url\" to post of interest's url\n",
    "urlhandle = (re.findall('http://[A-Za-z-]+\\.tumblr\\.com/', url))[0] \n",
    "\n",
    "html = urlopen(url)\n",
    "content = BeautifulSoup(html,\"html5lib\")                               \n",
    "sections2 = content.findAll(\"ol\")\n",
    "sections=sections2[0].findAll(\"li\")"
   ]
  },
  {
   "cell_type": "code",
   "execution_count": null,
   "metadata": {
    "collapsed": true
   },
   "outputs": [],
   "source": []
  },
  {
   "cell_type": "code",
   "execution_count": 49,
   "metadata": {
    "collapsed": true
   },
   "outputs": [],
   "source": [
    "x= sections[-1].findAll(\"a\")\n",
    "\n",
    "while len(x)==1:\n",
    "    y=str(x[0])\n",
    "    y= (re.findall('notes/[0-9]+/[A-Za-z0-9]+\\?from_c=[0-9]+', y))[0]\n",
    "    nextpage= urlhandle+y\n",
    "    \n",
    "    html=urlopen(nextpage)\n",
    "    content=BeautifulSoup(html,\"html5lib\")\n",
    "    sectionsnext=content.findAll(\"li\")\n",
    "    \n",
    "    if len(sectionsnext)>0:\n",
    "        x=sectionsnext[-1].findAll(\"a\")\n",
    "        \n",
    "        for i in range(len(sectionsnext)):\n",
    "            sections.append(sectionsnext[i])\n",
    "            \n",
    "    else:\n",
    "        x=[]\n",
    "    \n",
    "    continue "
   ]
  },
  {
   "cell_type": "code",
   "execution_count": null,
   "metadata": {
    "collapsed": true
   },
   "outputs": [],
   "source": []
  },
  {
   "cell_type": "code",
   "execution_count": 50,
   "metadata": {
    "collapsed": true
   },
   "outputs": [],
   "source": [
    "reblogs=[]\n",
    "\n",
    "for i in range(len(sections)):\n",
    "    x=sections[i].findAll(\"a\") \n",
    "    if len(x)>2:\n",
    "        row=[]\n",
    "        \n",
    "        user=x[1].get_text()\n",
    "        link=x[1].attrs['href']\n",
    "        \n",
    "        user2=x[2].get_text()\n",
    "        link2=x[2].attrs['href']\n",
    "        \n",
    "        row.append(user)\n",
    "        row.append(link)\n",
    "        row.append(user2)\n",
    "        row.append(link2)\n",
    "        \n",
    "        if len(x)>3:\n",
    "            comment = x[3].get_text()\n",
    "            comment= re.sub('\\n+', \" \", comment) #Removes excess new line characters                           \n",
    "            comment = re.sub(' +', \" \", comment) #Removes excess spaces   \n",
    "            row.append(comment)\n",
    "            \n",
    "        else:\n",
    "            row.append(\"\")\n",
    "        \n",
    "        reblogs.append(row)\n",
    "        \n",
    "    else:\n",
    "        continue"
   ]
  },
  {
   "cell_type": "code",
   "execution_count": null,
   "metadata": {
    "collapsed": true
   },
   "outputs": [],
   "source": []
  },
  {
   "cell_type": "code",
   "execution_count": 51,
   "metadata": {
    "collapsed": true
   },
   "outputs": [],
   "source": [
    "likes=[]\n",
    "\n",
    "for i in range(len(sections)): # For each note in sections, use findAll() to locate all content held within \"a\" tags\n",
    "    x=sections[i].findAll(\"a\") # If each note had two strings held within \"a\" tags, it is a like. If it has three, it is a reblog. If it has four, it is a reblog with a comment.\n",
    "    if len(x) ==2: \n",
    "        row=[]                      \n",
    "        \n",
    "        user=x[1].get_text() # Removes html formatting code; the result is the username of the individual liking the post\n",
    "        link=x[1].attrs['href'] # Finds Tumblr url of the person liking the post \n",
    "        \n",
    "        row.append(user)\n",
    "        row.append(link)\n",
    "        \n",
    "        likes.append(row)\n",
    "        \n",
    "    else:\n",
    "        continue"
   ]
  },
  {
   "cell_type": "code",
   "execution_count": null,
   "metadata": {
    "collapsed": true
   },
   "outputs": [],
   "source": []
  },
  {
   "cell_type": "code",
   "execution_count": 52,
   "metadata": {
    "collapsed": true
   },
   "outputs": [],
   "source": [
    "df_reblog=pd.DataFrame(reblogs)\n",
    "df_likes=pd.DataFrame(likes)"
   ]
  },
  {
   "cell_type": "code",
   "execution_count": null,
   "metadata": {},
   "outputs": [],
   "source": []
  },
  {
   "cell_type": "code",
   "execution_count": 53,
   "metadata": {
    "collapsed": true
   },
   "outputs": [],
   "source": [
    "for i in range(len(reblogs)):\n",
    "    reblogs[i].append(1)\n",
    "    x=0\n",
    "        \n",
    "    for t in range(len(likes)):\n",
    "    \n",
    "        if reblogs[i][1]== likes[t][1]:\n",
    "            x=1\n",
    "            del likes[t]\n",
    "            break\n",
    "            \n",
    "        else:\n",
    "            continue \n",
    "            \n",
    "    \n",
    "    reblogs[i].append(x)"
   ]
  },
  {
   "cell_type": "code",
   "execution_count": null,
   "metadata": {
    "collapsed": true
   },
   "outputs": [],
   "source": []
  },
  {
   "cell_type": "code",
   "execution_count": 54,
   "metadata": {
    "collapsed": true
   },
   "outputs": [],
   "source": [
    "for i in range(len(likes)):\n",
    "   \n",
    "    likes[i].append(\"cleyra\")\n",
    "    likes[i].append(\"Poster Url\")\n",
    "    likes[i].append(\"\")\n",
    "    likes[i].append(0)\n",
    "    likes[i].append(1)\n",
    "    \n",
    "    reblogs.append(likes[i])"
   ]
  },
  {
   "cell_type": "code",
   "execution_count": null,
   "metadata": {
    "collapsed": true
   },
   "outputs": [],
   "source": []
  },
  {
   "cell_type": "code",
   "execution_count": 55,
   "metadata": {
    "scrolled": false
   },
   "outputs": [
    {
     "data": {
      "text/html": [
       "<div>\n",
       "<style>\n",
       "    .dataframe thead tr:only-child th {\n",
       "        text-align: right;\n",
       "    }\n",
       "\n",
       "    .dataframe thead th {\n",
       "        text-align: left;\n",
       "    }\n",
       "\n",
       "    .dataframe tbody tr th {\n",
       "        vertical-align: top;\n",
       "    }\n",
       "</style>\n",
       "<table border=\"1\" class=\"dataframe\">\n",
       "  <thead>\n",
       "    <tr style=\"text-align: right;\">\n",
       "      <th></th>\n",
       "      <th>comment</th>\n",
       "      <th>reblog</th>\n",
       "      <th>like</th>\n",
       "      <th>target</th>\n",
       "      <th>source</th>\n",
       "    </tr>\n",
       "  </thead>\n",
       "  <tbody>\n",
       "    <tr>\n",
       "      <th>0</th>\n",
       "      <td></td>\n",
       "      <td>1</td>\n",
       "      <td>0</td>\n",
       "      <td>princess-kahlua</td>\n",
       "      <td>godtiermeme</td>\n",
       "    </tr>\n",
       "    <tr>\n",
       "      <th>1</th>\n",
       "      <td></td>\n",
       "      <td>1</td>\n",
       "      <td>1</td>\n",
       "      <td>wanderingsharpshooter</td>\n",
       "      <td>cleyra</td>\n",
       "    </tr>\n",
       "    <tr>\n",
       "      <th>2</th>\n",
       "      <td></td>\n",
       "      <td>1</td>\n",
       "      <td>1</td>\n",
       "      <td>stephytrash</td>\n",
       "      <td>cleyra</td>\n",
       "    </tr>\n",
       "    <tr>\n",
       "      <th>3</th>\n",
       "      <td></td>\n",
       "      <td>1</td>\n",
       "      <td>0</td>\n",
       "      <td>sybilofthestars</td>\n",
       "      <td>cleyra</td>\n",
       "    </tr>\n",
       "    <tr>\n",
       "      <th>4</th>\n",
       "      <td></td>\n",
       "      <td>1</td>\n",
       "      <td>1</td>\n",
       "      <td>capdocq</td>\n",
       "      <td>cleyra</td>\n",
       "    </tr>\n",
       "    <tr>\n",
       "      <th>5</th>\n",
       "      <td></td>\n",
       "      <td>1</td>\n",
       "      <td>0</td>\n",
       "      <td>dibison</td>\n",
       "      <td>cleyra</td>\n",
       "    </tr>\n",
       "    <tr>\n",
       "      <th>6</th>\n",
       "      <td></td>\n",
       "      <td>1</td>\n",
       "      <td>1</td>\n",
       "      <td>godtiermeme</td>\n",
       "      <td>cleyra</td>\n",
       "    </tr>\n",
       "    <tr>\n",
       "      <th>7</th>\n",
       "      <td></td>\n",
       "      <td>0</td>\n",
       "      <td>1</td>\n",
       "      <td>tiagoofox</td>\n",
       "      <td>Original Poster</td>\n",
       "    </tr>\n",
       "    <tr>\n",
       "      <th>8</th>\n",
       "      <td></td>\n",
       "      <td>0</td>\n",
       "      <td>1</td>\n",
       "      <td>always-pan-icking</td>\n",
       "      <td>Original Poster</td>\n",
       "    </tr>\n",
       "    <tr>\n",
       "      <th>9</th>\n",
       "      <td></td>\n",
       "      <td>0</td>\n",
       "      <td>1</td>\n",
       "      <td>who-even-knows-man</td>\n",
       "      <td>Original Poster</td>\n",
       "    </tr>\n",
       "    <tr>\n",
       "      <th>10</th>\n",
       "      <td></td>\n",
       "      <td>0</td>\n",
       "      <td>1</td>\n",
       "      <td>moonary</td>\n",
       "      <td>Original Poster</td>\n",
       "    </tr>\n",
       "    <tr>\n",
       "      <th>11</th>\n",
       "      <td></td>\n",
       "      <td>0</td>\n",
       "      <td>1</td>\n",
       "      <td>twitchytyrant</td>\n",
       "      <td>Original Poster</td>\n",
       "    </tr>\n",
       "    <tr>\n",
       "      <th>12</th>\n",
       "      <td></td>\n",
       "      <td>0</td>\n",
       "      <td>1</td>\n",
       "      <td>zelos-wilders</td>\n",
       "      <td>Original Poster</td>\n",
       "    </tr>\n",
       "    <tr>\n",
       "      <th>13</th>\n",
       "      <td></td>\n",
       "      <td>0</td>\n",
       "      <td>1</td>\n",
       "      <td>cleyra</td>\n",
       "      <td>Original Poster</td>\n",
       "    </tr>\n",
       "  </tbody>\n",
       "</table>\n",
       "</div>"
      ],
      "text/plain": [
       "   comment  reblog  like                 target           source\n",
       "0                1     0        princess-kahlua      godtiermeme\n",
       "1                1     1  wanderingsharpshooter           cleyra\n",
       "2                1     1            stephytrash           cleyra\n",
       "3                1     0        sybilofthestars           cleyra\n",
       "4                1     1                capdocq           cleyra\n",
       "5                1     0                dibison           cleyra\n",
       "6                1     1            godtiermeme           cleyra\n",
       "7                0     1              tiagoofox  Original Poster\n",
       "8                0     1      always-pan-icking  Original Poster\n",
       "9                0     1     who-even-knows-man  Original Poster\n",
       "10               0     1                moonary  Original Poster\n",
       "11               0     1          twitchytyrant  Original Poster\n",
       "12               0     1          zelos-wilders  Original Poster\n",
       "13               0     1                 cleyra  Original Poster"
      ]
     },
     "execution_count": 55,
     "metadata": {},
     "output_type": "execute_result"
    }
   ],
   "source": [
    "df_network=pd.DataFrame(reblogs)\n",
    "df_network.columns = [\"target\", \"target URL\", \"source\", \"source URL\", \"comment\", \"reblog\", \"like\"]\n",
    "\n",
    "columns = [\"target URL\", \"source URL\"]\n",
    "df_network.drop(columns, inplace=True, axis=1)\n",
    "\n",
    "\n",
    "df = df_network.reindex_axis([\"comment\", \"reblog\", \"like\", \"target\", \"source\"], axis=1)\n",
    "df"
   ]
  },
  {
   "cell_type": "code",
   "execution_count": null,
   "metadata": {
    "scrolled": true
   },
   "outputs": [],
   "source": []
  },
  {
   "cell_type": "code",
   "execution_count": 56,
   "metadata": {
    "collapsed": true
   },
   "outputs": [],
   "source": [
    "## Create network graph\n",
    "g = nx.from_pandas_edgelist(df, 'source', 'target', ['like', 'reblog', 'comment'])"
   ]
  },
  {
   "cell_type": "code",
   "execution_count": null,
   "metadata": {
    "collapsed": true
   },
   "outputs": [],
   "source": []
  },
  {
   "cell_type": "code",
   "execution_count": 57,
   "metadata": {},
   "outputs": [
    {
     "data": {
      "text/plain": [
       "['Original Poster']"
      ]
     },
     "execution_count": 57,
     "metadata": {},
     "output_type": "execute_result"
    }
   ],
   "source": [
    "## Create opnode and others nodelists\n",
    "op = 'cleyra'\n",
    "\n",
    "opnode = []\n",
    "others = []\n",
    "\n",
    "for node in g.nodes():\n",
    "    if node == op:\n",
    "        opnode.append(node)\n",
    "    else:\n",
    "        others.append(node)\n",
    "\n",
    "opnode"
   ]
  },
  {
   "cell_type": "code",
   "execution_count": 58,
   "metadata": {},
   "outputs": [
    {
     "name": "stdout",
     "output_type": "stream",
     "text": [
      "[('godtiermeme', 'cleyra', {'like': 1, 'reblog': 1, 'comment': ''}), ('cleyra', 'wanderingsharpshooter', {'like': 1, 'reblog': 1, 'comment': ''}), ('cleyra', 'stephytrash', {'like': 1, 'reblog': 1, 'comment': ''}), ('cleyra', 'capdocq', {'like': 1, 'reblog': 1, 'comment': ''})]\n",
      "[('cleyra', 'Original Poster', {'like': 1, 'reblog': 0, 'comment': ''}), ('Original Poster', 'tiagoofox', {'like': 1, 'reblog': 0, 'comment': ''}), ('Original Poster', 'always-pan-icking', {'like': 1, 'reblog': 0, 'comment': ''}), ('Original Poster', 'who-even-knows-man', {'like': 1, 'reblog': 0, 'comment': ''}), ('Original Poster', 'moonary', {'like': 1, 'reblog': 0, 'comment': ''}), ('Original Poster', 'twitchytyrant', {'like': 1, 'reblog': 0, 'comment': ''}), ('Original Poster', 'zelos-wilders', {'like': 1, 'reblog': 0, 'comment': ''})]\n",
      "[('godtiermeme', 'princess-kahlua', {'like': 0, 'reblog': 1, 'comment': ''}), ('cleyra', 'sybilofthestars', {'like': 0, 'reblog': 1, 'comment': ''}), ('cleyra', 'dibison', {'like': 0, 'reblog': 1, 'comment': ''})]\n"
     ]
    }
   ],
   "source": [
    "## Create edgelists\n",
    "bothlist = []\n",
    "likelist = []\n",
    "rebloglist = []\n",
    "\n",
    "\n",
    "for (s,t,d) in g.edges(data=True):\n",
    "    if d['like'] == 1 and d['reblog'] == 1:\n",
    "        bothlist.append((s,t,d))\n",
    "    elif d['like'] == 1:\n",
    "        likelist.append((s,t,d))\n",
    "    elif d['reblog'] == 1:\n",
    "        rebloglist.append((s,t,d))\n",
    "    else:\n",
    "        print('no style')\n",
    "\n",
    "print(bothlist)\n",
    "print(likelist)\n",
    "print(rebloglist)"
   ]
  },
  {
   "cell_type": "code",
   "execution_count": null,
   "metadata": {
    "collapsed": true
   },
   "outputs": [],
   "source": []
  },
  {
   "cell_type": "code",
   "execution_count": 60,
   "metadata": {},
   "outputs": [
    {
     "data": {
      "image/png": "[encoded data removed]",
      "text/plain": [
       "<matplotlib.figure.Figure at 0x2e846b9b6d8>"
      ]
     },
     "metadata": {},
     "output_type": "display_data"
    }
   ],
   "source": [
    "## define network layout\n",
    "pos = nx.spring_layout(g)\n",
    "\n",
    "## define figure size\n",
    "plt.figure(figsize=(20,10))\n",
    "\n",
    "## draw nodes\n",
    "nx.draw_networkx_nodes(g, pos, nodelist = opnode, node_color = 'r', node_size = 500)\n",
    "nx.draw_networkx_nodes(g, pos, nodelist = others, node_color = 'green', node_size = 200)\n",
    "\n",
    "## draw edges by group\n",
    "nx.draw_networkx_edges(g, pos, edgelist = bothlist, edge_color = 'r', style = 'solid')\n",
    "nx.draw_networkx_edges(g, pos, edgelist = likelist, edge_color = 'orange', style = 'dashed')\n",
    "nx.draw_networkx_edges(g, pos, edgelist = rebloglist, edge_color = 'g', style = 'solid')\n",
    "\n",
    "## draw node labels\n",
    "nx.draw_networkx_labels(g, pos)\n",
    "\n",
    "## show drawing\n",
    "plt.show()"
   ]
  },
  {
   "cell_type": "code",
   "execution_count": null,
   "metadata": {
    "collapsed": true
   },
   "outputs": [],
   "source": []
  }
 ],
 "metadata": {
  "kernelspec": {
   "display_name": "Python 3",
   "language": "python",
   "name": "python3"
  },
  "language_info": {
   "codemirror_mode": {
    "name": "ipython",
    "version": 3
   },
   "file_extension": ".py",
   "mimetype": "text/x-python",
   "name": "python",
   "nbconvert_exporter": "python",
   "pygments_lexer": "ipython3",
   "version": "3.6.3"
  }
 },
 "nbformat": 4,
 "nbformat_minor": 2
}
