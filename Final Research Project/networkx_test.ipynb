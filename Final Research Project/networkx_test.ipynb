{
 "cells": [
  {
   "cell_type": "markdown",
   "metadata": {},
   "source": [
    "## drawing static network graphs with matplotlib"
   ]
  },
  {
   "cell_type": "code",
   "execution_count": 104,
   "metadata": {
    "collapsed": true
   },
   "outputs": [],
   "source": [
    "## Import libraries\n",
    "import networkx as nx\n",
    "import matplotlib.pyplot as plt\n",
    "import pandas as pd\n",
    "import numpy as np"
   ]
  },
  {
   "cell_type": "code",
   "execution_count": 105,
   "metadata": {},
   "outputs": [
    {
     "data": {
      "text/html": [
       "<div>\n",
       "<style>\n",
       "    .dataframe thead tr:only-child th {\n",
       "        text-align: right;\n",
       "    }\n",
       "\n",
       "    .dataframe thead th {\n",
       "        text-align: left;\n",
       "    }\n",
       "\n",
       "    .dataframe tbody tr th {\n",
       "        vertical-align: top;\n",
       "    }\n",
       "</style>\n",
       "<table border=\"1\" class=\"dataframe\">\n",
       "  <thead>\n",
       "    <tr style=\"text-align: right;\">\n",
       "      <th></th>\n",
       "      <th>comment</th>\n",
       "      <th>like</th>\n",
       "      <th>reblog</th>\n",
       "      <th>source</th>\n",
       "      <th>target</th>\n",
       "    </tr>\n",
       "  </thead>\n",
       "  <tbody>\n",
       "    <tr>\n",
       "      <th>0</th>\n",
       "      <td>roommates on a weekday night lol</td>\n",
       "      <td>1</td>\n",
       "      <td>1</td>\n",
       "      <td>cleyra</td>\n",
       "      <td>capdocq</td>\n",
       "    </tr>\n",
       "    <tr>\n",
       "      <th>1</th>\n",
       "      <td></td>\n",
       "      <td>1</td>\n",
       "      <td>1</td>\n",
       "      <td>cleyra</td>\n",
       "      <td>godtiermeme</td>\n",
       "    </tr>\n",
       "    <tr>\n",
       "      <th>2</th>\n",
       "      <td></td>\n",
       "      <td>1</td>\n",
       "      <td>0</td>\n",
       "      <td>cleyra</td>\n",
       "      <td>tiagoofox</td>\n",
       "    </tr>\n",
       "    <tr>\n",
       "      <th>3</th>\n",
       "      <td></td>\n",
       "      <td>0</td>\n",
       "      <td>1</td>\n",
       "      <td>godtiermeme</td>\n",
       "      <td>princess-kahlua</td>\n",
       "    </tr>\n",
       "  </tbody>\n",
       "</table>\n",
       "</div>"
      ],
      "text/plain": [
       "                            comment  like  reblog       source  \\\n",
       "0  roommates on a weekday night lol     1       1       cleyra   \n",
       "1                                       1       1       cleyra   \n",
       "2                                       1       0       cleyra   \n",
       "3                                       0       1  godtiermeme   \n",
       "\n",
       "            target  \n",
       "0          capdocq  \n",
       "1      godtiermeme  \n",
       "2        tiagoofox  \n",
       "3  princess-kahlua  "
      ]
     },
     "execution_count": 105,
     "metadata": {},
     "output_type": "execute_result"
    }
   ],
   "source": [
    "## Create sample dateframe\n",
    "source = ['cleyra', 'cleyra', 'cleyra', 'godtiermeme']\n",
    "target = ['capdocq', 'godtiermeme', 'tiagoofox', 'princess-kahlua']\n",
    "reblog = [1, 1, 0, 1]\n",
    "like = [1, 1, 1, 0]\n",
    "comment = ['roommates on a weekday night lol','','','']\n",
    "\n",
    "d = {'source': source, 'target': target, 'reblog': reblog, 'like': like, 'comment': comment}\n",
    "\n",
    "df = pd.DataFrame(d)\n",
    "df"
   ]
  },
  {
   "cell_type": "code",
   "execution_count": 106,
   "metadata": {},
   "outputs": [],
   "source": [
    "## Create network graph\n",
    "g = nx.from_pandas_edgelist(df, 'source', 'target', ['like', 'reblog', 'comment'])"
   ]
  },
  {
   "cell_type": "code",
   "execution_count": 107,
   "metadata": {},
   "outputs": [
    {
     "data": {
      "text/plain": [
       "['cleyra']"
      ]
     },
     "execution_count": 107,
     "metadata": {},
     "output_type": "execute_result"
    }
   ],
   "source": [
    "## Create opnode and others nodelists\n",
    "op = 'cleyra'\n",
    "\n",
    "opnode = []\n",
    "others = []\n",
    "\n",
    "for node in g.nodes():\n",
    "    if node == op:\n",
    "        opnode.append(node)\n",
    "    else:\n",
    "        others.append(node)\n",
    "\n",
    "opnode"
   ]
  },
  {
   "cell_type": "code",
   "execution_count": 108,
   "metadata": {},
   "outputs": [
    {
     "name": "stdout",
     "output_type": "stream",
     "text": [
      "[('cleyra', 'capdocq', {'like': 1, 'reblog': 1, 'comment': 'roommates on a weekday night lol'}), ('cleyra', 'godtiermeme', {'like': 1, 'reblog': 1, 'comment': ''})]\n",
      "[('cleyra', 'tiagoofox', {'like': 1, 'reblog': 0, 'comment': ''})]\n",
      "[('godtiermeme', 'princess-kahlua', {'like': 0, 'reblog': 1, 'comment': ''})]\n"
     ]
    }
   ],
   "source": [
    "## Create edgelists\n",
    "bothlist = []\n",
    "likelist = []\n",
    "rebloglist = []\n",
    "\n",
    "\n",
    "for (s,t,d) in g.edges(data=True):\n",
    "    if d['like'] == 1 and d['reblog'] == 1:\n",
    "        bothlist.append((s,t,d))\n",
    "    elif d['like'] == 1:\n",
    "        likelist.append((s,t,d))\n",
    "    elif d['reblog'] == 1:\n",
    "        rebloglist.append((s,t,d))\n",
    "    else:\n",
    "        print('no style')\n",
    "\n",
    "print(bothlist)\n",
    "print(likelist)\n",
    "print(rebloglist)"
   ]
  },
  {
   "cell_type": "code",
   "execution_count": 110,
   "metadata": {},
   "outputs": [
    {
     "data": {
      "image/png": "[encoded data removed]",
      "text/plain": [
       "<matplotlib.figure.Figure at 0x1e1f12eb208>"
      ]
     },
     "metadata": {},
     "output_type": "display_data"
    }
   ],
   "source": [
    "## define network layout\n",
    "pos = nx.spring_layout(g)\n",
    "\n",
    "## draw nodes\n",
    "nx.draw_networkx_nodes(g, pos, nodelist = opnode, node_color = 'r', node_size = 1500)\n",
    "nx.draw_networkx_nodes(g, pos, nodelist = others, node_color = 'green', node_size = 1500)\n",
    "\n",
    "## draw edges by group\n",
    "nx.draw_networkx_edges(g, pos, edgelist = bothlist, edge_color = 'r', style = 'solid')\n",
    "nx.draw_networkx_edges(g, pos, edgelist = likelist, edge_color = 'orange', style = 'dashed')\n",
    "nx.draw_networkx_edges(g, pos, edgelist = rebloglist, edge_color = 'g', style = 'solid')\n",
    "\n",
    "## draw node labels\n",
    "nx.draw_networkx_labels(g, pos)\n",
    "\n",
    "## show drawing\n",
    "plt.show()"
   ]
  },
  {
   "cell_type": "code",
   "execution_count": null,
   "metadata": {},
   "outputs": [],
   "source": []
  },
  {
   "cell_type": "code",
   "execution_count": null,
   "metadata": {},
   "outputs": [],
   "source": []
  }
 ],
 "metadata": {
  "kernelspec": {
   "display_name": "Python 3",
   "language": "python",
   "name": "python3"
  },
  "language_info": {
   "codemirror_mode": {
    "name": "ipython",
    "version": 3
   },
   "file_extension": ".py",
   "mimetype": "text/x-python",
   "name": "python",
   "nbconvert_exporter": "python",
   "pygments_lexer": "ipython3",
   "version": "3.6.3"
  }
 },
 "nbformat": 4,
 "nbformat_minor": 2
}
