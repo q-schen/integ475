{
 "cells": [
  {
   "cell_type": "markdown",
   "metadata": {},
   "source": [
    "# Tutorial Notebook: Python Flickr API - Image Processing"
   ]
  },
  {
   "cell_type": "markdown",
   "metadata": {},
   "source": [
    "By Qi-Sheng Chen & Stephanie Ye-Mowe"
   ]
  },
  {
   "cell_type": "markdown",
   "metadata": {},
   "source": [
    "## Setting Up"
   ]
  },
  {
   "cell_type": "markdown",
   "metadata": {},
   "source": [
    "To begin, we must first install (using pip) and import the Python packages and libraries that we will use.\n",
    "- the `flickrapi` Python library, to grab info on photos from Flickr\n",
    "- the ..."
   ]
  },
  {
   "cell_type": "code",
   "execution_count": 222,
   "metadata": {
    "collapsed": true
   },
   "outputs": [],
   "source": [
    "import flickrapi\n",
    "# ..."
   ]
  },
  {
   "cell_type": "markdown",
   "metadata": {},
   "source": [
    "To use the Flickr API, we will need a few other things other than the Python libraries. Specifically, we need to get an API key and secret from Flickr, which should be stored into variables. The steps are described below:\n",
    "1. Get a Yahoo account or Flickr account.\n",
    "2. After logging in, go here: https://www.flickr.com/services/apps/create/\n",
    "3. Click on “Request an API key”.\n",
    "4. Choose the non-commercial option.\n",
    "5. Fill out the form.\n",
    "6. Save the key and secret somewhere safe."
   ]
  },
  {
   "cell_type": "code",
   "execution_count": 209,
   "metadata": {
    "collapsed": true
   },
   "outputs": [],
   "source": [
    "api_key = u'69fbd2f891b93f23613f107d1fdbab4c'\n",
    "api_secret = u'4e52b8545ebf6f6a'"
   ]
  },
  {
   "cell_type": "markdown",
   "metadata": {},
   "source": [
    "After acquiring and storing the API key and secret, initiate and authenticate your Python Flickr API call session. This will allow your Python code and use of the Flickr API Python package to work properly and access the data from Flickr. For this tutorial, we will only be reading the data, and we will use the default caching offered by the Flickr API Python package. The documentation on the package describes the authentication very well [here](https://stuvel.eu/flickrapi-doc/3-auth.html), as well as how the default caching works ([here](https://stuvel.eu/flickrapi-doc/6-caching.html))."
   ]
  },
  {
   "cell_type": "code",
   "execution_count": 210,
   "metadata": {},
   "outputs": [],
   "source": [
    "flickr = flickrapi.FlickrAPI(api_key, api_secret, cache=True)\n",
    "flickr.authenticate_via_browser(perms='read')"
   ]
  },
  {
   "cell_type": "code",
   "execution_count": null,
   "metadata": {
    "collapsed": true
   },
   "outputs": [],
   "source": []
  },
  {
   "cell_type": "markdown",
   "metadata": {},
   "source": [
    "## Part A: Processing a Photo from Flickr"
   ]
  },
  {
   "cell_type": "markdown",
   "metadata": {},
   "source": [
    "\n",
    "### Getting the Info on One Photo from Flickr\n",
    "We use a `photos.getInfo` call with the photo's id (located in the URL) as the argument. As noted in the Flickr API Python package [here](https://stuvel.eu/flickrapi-doc/2-calling.html), Flickr returns XML when you call a function. This `photos.getInfo` function returns an XML element `rsp`, and we include a `[0]` to access the first (and only) child of the `rsp` tag, which is a `photo` element, as described in the Flickr API documentation [here](https://www.flickr.com/services/api/flickr.photos.getInfo.html). We store the `photo` element into a variable (`photoInfo`)."
   ]
  },
  {
   "cell_type": "code",
   "execution_count": 211,
   "metadata": {},
   "outputs": [],
   "source": [
    "photoInfo = flickr.photos.getInfo(photo_id='40597643101')[0]"
   ]
  },
  {
   "cell_type": "markdown",
   "metadata": {},
   "source": [
    "To find out what we want from our photo, other than the image itself, we can dive into what the `photo` element is composed of, in terms of its attributes and text, as well as its children's tags, attributes, and text. Python is able to parse through these elements because of the built-in XML Elementtree package. You can grab the contents of the `photo` element like this:"
   ]
  },
  {
   "cell_type": "code",
   "execution_count": 212,
   "metadata": {},
   "outputs": [
    {
     "name": "stdout",
     "output_type": "stream",
     "text": [
      "photo {'id': '40597643101', 'secret': 'a62b1bd5ed', 'server': '4747', 'farm': '5', 'dateuploaded': '1520103954', 'isfavorite': '0', 'license': '0', 'safety_level': '0', 'rotation': '0', 'views': '392', 'media': 'photo'} \n",
      "\t\n"
     ]
    }
   ],
   "source": [
    "print(photoInfo.tag, photoInfo.attrib, photoInfo.text)"
   ]
  },
  {
   "cell_type": "markdown",
   "metadata": {},
   "source": [
    "You can loop through the child elements of the `photo` element in a similar way. In the below `for` loop, we use the `enumerate` function to produce a counter, `i`, that is essentially the index of each child element. This is important to know because we will be accessing the child elements by referring to their index."
   ]
  },
  {
   "cell_type": "code",
   "execution_count": 213,
   "metadata": {},
   "outputs": [
    {
     "name": "stdout",
     "output_type": "stream",
     "text": [
      "0 owner {'nsid': '135893774@N05', 'username': 'digital_underground', 'realname': 'Alex Schönberg', 'location': 'Hamburg, Deutschland', 'iconserver': '3867', 'iconfarm': '4', 'path_alias': ''} None\n",
      "1 title {} Lütjensee-Schnee-sw\n",
      "2 description {} None\n",
      "3 visibility {'ispublic': '1', 'isfriend': '0', 'isfamily': '0'} None\n",
      "4 dates {'posted': '1520103954', 'taken': '2018-03-03 20:05:48', 'takengranularity': '0', 'takenunknown': '1', 'lastupdate': '1520114845'} None\n",
      "5 editability {'cancomment': '1', 'canaddmeta': '0'} None\n",
      "6 publiceditability {'cancomment': '1', 'canaddmeta': '0'} None\n",
      "7 usage {'candownload': '0', 'canblog': '1', 'canprint': '0', 'canshare': '1'} None\n",
      "8 comments {} 0\n",
      "9 notes {} None\n",
      "10 people {'haspeople': '0'} None\n",
      "11 tags {} None\n",
      "12 urls {} \n",
      "\t\t\n"
     ]
    }
   ],
   "source": [
    "for i, element in enumerate(photoInfo):\n",
    "    print(i, element.tag, element.attrib, element.text)"
   ]
  },
  {
   "cell_type": "markdown",
   "metadata": {},
   "source": [
    "As you can see, the `photo` element had 13 child elements. If you were only interested in getting the title of the photo and the date it was taken, you can specify those tags, their attributes, and their text by referring to their index positions. A tag's attributes are stored in a Python dictionary. To practise, let's grab the title and date taken of the photo:"
   ]
  },
  {
   "cell_type": "code",
   "execution_count": 214,
   "metadata": {},
   "outputs": [
    {
     "name": "stdout",
     "output_type": "stream",
     "text": [
      "Title: Lütjensee-Schnee-sw\n",
      "Date taken: 2018-03-03 20:05:48\n"
     ]
    }
   ],
   "source": [
    "print(\"Title: \" + photoInfo[1].text)\n",
    "print(\"Date taken: \" + photoInfo[4].attrib['taken'])\n",
    "# You can also get the date taken with:\n",
    "# print(\"Date taken: \" + photoInfo[4].get('taken'))"
   ]
  },
  {
   "cell_type": "markdown",
   "metadata": {},
   "source": [
    "### Getting the URL of One Photo from Flickr\n",
    "Above, we got a taste of what we can do with the Python Flickr API and XML Elementtree packages. Now, we want to get the URL of the photo, in order to load it into Python to view and process. To begin, we will use another Python Flickr API package function, `photos.getSizes`, which also takes the photo's id as an argument. This function call also returns the `rsp` element as seen before, so we will instead look at it's first (and only) child, `sizes`, to eventually get our photo's URL. We're going to store the element into a variable, `photoSizes`.\n",
    "\n",
    "We are working with `photos.getSizes` because Flickr stores photo URLs based on the *size* of the photo you want to see, such as Thumbnail, Medium, Large Square, etc."
   ]
  },
  {
   "cell_type": "code",
   "execution_count": 215,
   "metadata": {},
   "outputs": [],
   "source": [
    "photoSizes = flickr.photos.getSizes(photo_id='40597643101')[0]"
   ]
  },
  {
   "cell_type": "markdown",
   "metadata": {},
   "source": [
    "Let's break down what's in the `sizes` element! We will print its contents, as well as its children's contents, as we had done previously."
   ]
  },
  {
   "cell_type": "code",
   "execution_count": 216,
   "metadata": {},
   "outputs": [
    {
     "name": "stdout",
     "output_type": "stream",
     "text": [
      "sizes {'canblog': '1', 'canprint': '0', 'candownload': '0'} \n",
      "\t\n"
     ]
    }
   ],
   "source": [
    "print(photoSizes.tag, photoSizes.attrib, photoSizes.text)"
   ]
  },
  {
   "cell_type": "code",
   "execution_count": 217,
   "metadata": {},
   "outputs": [
    {
     "name": "stdout",
     "output_type": "stream",
     "text": [
      "0 size {'label': 'Square', 'width': '75', 'height': '75', 'source': 'https://farm5.staticflickr.com/4747/40597643101_a62b1bd5ed_s.jpg', 'url': 'https://www.flickr.com/photos/135893774@N05/40597643101/sizes/sq/', 'media': 'photo'} None\n",
      "1 size {'label': 'Large Square', 'width': '150', 'height': '150', 'source': 'https://farm5.staticflickr.com/4747/40597643101_a62b1bd5ed_q.jpg', 'url': 'https://www.flickr.com/photos/135893774@N05/40597643101/sizes/q/', 'media': 'photo'} None\n",
      "2 size {'label': 'Thumbnail', 'width': '100', 'height': '67', 'source': 'https://farm5.staticflickr.com/4747/40597643101_a62b1bd5ed_t.jpg', 'url': 'https://www.flickr.com/photos/135893774@N05/40597643101/sizes/t/', 'media': 'photo'} None\n",
      "3 size {'label': 'Small', 'width': '240', 'height': '160', 'source': 'https://farm5.staticflickr.com/4747/40597643101_a62b1bd5ed_m.jpg', 'url': 'https://www.flickr.com/photos/135893774@N05/40597643101/sizes/s/', 'media': 'photo'} None\n",
      "4 size {'label': 'Small 320', 'width': '320', 'height': '213', 'source': 'https://farm5.staticflickr.com/4747/40597643101_a62b1bd5ed_n.jpg', 'url': 'https://www.flickr.com/photos/135893774@N05/40597643101/sizes/n/', 'media': 'photo'} None\n",
      "5 size {'label': 'Medium', 'width': '500', 'height': '334', 'source': 'https://farm5.staticflickr.com/4747/40597643101_a62b1bd5ed.jpg', 'url': 'https://www.flickr.com/photos/135893774@N05/40597643101/sizes/m/', 'media': 'photo'} None\n",
      "6 size {'label': 'Medium 640', 'width': '640', 'height': '427', 'source': 'https://farm5.staticflickr.com/4747/40597643101_a62b1bd5ed_z.jpg', 'url': 'https://www.flickr.com/photos/135893774@N05/40597643101/sizes/z/', 'media': 'photo'} None\n",
      "7 size {'label': 'Medium 800', 'width': '800', 'height': '534', 'source': 'https://farm5.staticflickr.com/4747/40597643101_a62b1bd5ed_c.jpg', 'url': 'https://www.flickr.com/photos/135893774@N05/40597643101/sizes/c/', 'media': 'photo'} None\n",
      "8 size {'label': 'Large', 'width': '1000', 'height': '667', 'source': 'https://farm5.staticflickr.com/4747/40597643101_a62b1bd5ed_b.jpg', 'url': 'https://www.flickr.com/photos/135893774@N05/40597643101/sizes/l/', 'media': 'photo'} None\n"
     ]
    }
   ],
   "source": [
    "for i, element in enumerate(photoSizes):\n",
    "    print(i, element.tag, element.attrib, element.text)"
   ]
  },
  {
   "cell_type": "markdown",
   "metadata": {},
   "source": [
    "As you can see, there are lots of URLs stored within `sizes` child elements. Perhaps we are only interested in the Large Square size of the photo, we would grab the URL like this:"
   ]
  },
  {
   "cell_type": "code",
   "execution_count": 218,
   "metadata": {},
   "outputs": [
    {
     "name": "stdout",
     "output_type": "stream",
     "text": [
      "https://farm5.staticflickr.com/4747/40597643101_a62b1bd5ed_q.jpg\n"
     ]
    }
   ],
   "source": [
    "photoURL = photoSizes[1].get('source')\n",
    "print(photoSizes[1].get('source'))"
   ]
  },
  {
   "cell_type": "markdown",
   "metadata": {},
   "source": [
    "With this URL stored in the variable `photoURL`, we can begin image processing! We will ..."
   ]
  },
  {
   "cell_type": "code",
   "execution_count": null,
   "metadata": {
    "collapsed": true
   },
   "outputs": [],
   "source": []
  },
  {
   "cell_type": "code",
   "execution_count": null,
   "metadata": {
    "collapsed": true
   },
   "outputs": [],
   "source": []
  },
  {
   "cell_type": "markdown",
   "metadata": {},
   "source": [
    "## Part B: Processing Several Photos in an Album"
   ]
  },
  {
   "cell_type": "markdown",
   "metadata": {},
   "source": [
    "<br>\n",
    "### Getting the Info and URLs of Photos in an Album\n",
    "We've been able to work with grabbing one image from Flickr, accessing its data, and processing it and finding its dominant colour. Now, it's time to work with multiple images! We'll start off by storing an album (or a 'set') of photos in a `photos` variable. To do this, we will use the function `walk_set` of the Python Flickr API package, which takes the identifier of a photoset and returns an element generator/iterator object."
   ]
  },
  {
   "cell_type": "code",
   "execution_count": 219,
   "metadata": {},
   "outputs": [],
   "source": [
    "photos = flickr.walk_set('72157646265902699')"
   ]
  },
  {
   "cell_type": "markdown",
   "metadata": {},
   "source": [
    "We can do a similar thing to before and explore the element and its children, however the steps this time are different, as the parent element is a generator/iterator object. We first convert the element into a list, and then we are able to iterate through the result of the generator/iterator object. However, it has been noted on Stack Overflow that calling the `list` function in iPython will conflict with other things, and will require the `walk_set` function to be called again to be able to use the results in our other functions, and so it is best not to store the results in a variable."
   ]
  },
  {
   "cell_type": "code",
   "execution_count": 220,
   "metadata": {},
   "outputs": [
    {
     "name": "stdout",
     "output_type": "stream",
     "text": [
      "0 photo {'id': '14798318497', 'secret': 'ae3fded0c5', 'server': '5569', 'farm': '6', 'title': 'Toronto Skyline in the Evening', 'isprimary': '0', 'ispublic': '1', 'isfriend': '0', 'isfamily': '0'} None\n",
      "1 photo {'id': '14798261468', 'secret': '583b3d126c', 'server': '3868', 'farm': '4', 'title': 'Toronto Skyline at Sunset', 'isprimary': '0', 'ispublic': '1', 'isfriend': '0', 'isfamily': '0'} None\n",
      "2 photo {'id': '14984872865', 'secret': '8266209963', 'server': '5588', 'farm': '6', 'title': 'Ferrying', 'isprimary': '0', 'ispublic': '1', 'isfriend': '0', 'isfamily': '0'} None\n",
      "3 photo {'id': '14798187759', 'secret': 'b4aa634670', 'server': '3909', 'farm': '4', 'title': 'A Sky Full of Birds', 'isprimary': '0', 'ispublic': '1', 'isfriend': '0', 'isfamily': '0'} None\n",
      "4 photo {'id': '14984511762', 'secret': '66b8e0cce7', 'server': '5582', 'farm': '6', 'title': 'Ancient Marine Fossils', 'isprimary': '0', 'ispublic': '1', 'isfriend': '0', 'isfamily': '0'} None\n",
      "5 photo {'id': '14798266538', 'secret': '3a7ebcc1a8', 'server': '5554', 'farm': '6', 'title': 'The Death of General Wolfe', 'isprimary': '0', 'ispublic': '1', 'isfriend': '0', 'isfamily': '0'} None\n",
      "6 photo {'id': '14798265348', 'secret': '2dec7a2e9e', 'server': '3869', 'farm': '4', 'title': 'Royal Ontario Museum', 'isprimary': '1', 'ispublic': '1', 'isfriend': '0', 'isfamily': '0'} None\n"
     ]
    }
   ],
   "source": [
    "for i, photo in enumerate(list(photos)):\n",
    "    print(i, photo.tag, photo.attrib, photo.text)\n",
    "# if you run this cell twice without running the above cell in between, the second run of this cell will print nothing"
   ]
  },
  {
   "cell_type": "markdown",
   "metadata": {},
   "source": [
    "The printed results above show that the many `photo` elements share the same attributes, such as `id` and `title`, but it currently does not have any URLs that we can grab for our image processing later. To get the URLs, we will modify the `for` loop to include an additional argument that will grab extra attributes of interest. The full list of those attributes can be explored [here](https://www.flickr.com/services/api/flickr.photosets.getPhotos.html). "
   ]
  },
  {
   "cell_type": "code",
   "execution_count": 221,
   "metadata": {},
   "outputs": [
    {
     "name": "stdout",
     "output_type": "stream",
     "text": [
      "0 Toronto Skyline in the Evening\n",
      "Square: https://farm6.staticflickr.com/5569/14798318497_ae3fded0c5_s.jpg\n",
      "Original: https://farm6.staticflickr.com/5569/14798318497_2fcf9910e5_o.jpg\n",
      "1 Toronto Skyline at Sunset\n",
      "Square: https://farm4.staticflickr.com/3868/14798261468_583b3d126c_s.jpg\n",
      "Original: https://farm4.staticflickr.com/3868/14798261468_1fa2bbe07e_o.jpg\n",
      "2 Ferrying\n",
      "Square: https://farm6.staticflickr.com/5588/14984872865_8266209963_s.jpg\n",
      "Original: https://farm6.staticflickr.com/5588/14984872865_1f97a776cb_o.jpg\n",
      "3 A Sky Full of Birds\n",
      "Square: https://farm4.staticflickr.com/3909/14798187759_b4aa634670_s.jpg\n",
      "Original: https://farm4.staticflickr.com/3909/14798187759_432255446a_o.jpg\n",
      "4 Ancient Marine Fossils\n",
      "Square: https://farm6.staticflickr.com/5582/14984511762_66b8e0cce7_s.jpg\n",
      "Original: https://farm6.staticflickr.com/5582/14984511762_b2d06848cb_o.jpg\n",
      "5 The Death of General Wolfe\n",
      "Square: https://farm6.staticflickr.com/5554/14798266538_3a7ebcc1a8_s.jpg\n",
      "Original: https://farm6.staticflickr.com/5554/14798266538_e048867323_o.jpg\n",
      "6 Royal Ontario Museum\n",
      "Square: https://farm4.staticflickr.com/3869/14798265348_2dec7a2e9e_s.jpg\n",
      "Original: https://farm4.staticflickr.com/3869/14798265348_cc8aa4970e_o.jpg\n"
     ]
    }
   ],
   "source": [
    "photolist = []\n",
    "\n",
    "for i, photo in enumerate(flickr.walk_set('72157646265902699', extras='url_sq, url_o')):\n",
    "    photolist.append(photo.get('url_sq'))\n",
    "    \n",
    "    print(i, photo.get('title'))\n",
    "    print(\"Square: \" + photo.get('url_sq'))\n",
    "    print(\"Original: \" + photo.get('url_o'))"
   ]
  },
  {
   "cell_type": "markdown",
   "metadata": {},
   "source": [
    "In the `for` loop above, we stored the URLs of the Square size photos in the list `photolist`; with this list, we can can pass the images through in a more iterative processing method...."
   ]
  },
  {
   "cell_type": "code",
   "execution_count": null,
   "metadata": {
    "collapsed": true
   },
   "outputs": [],
   "source": []
  },
  {
   "cell_type": "code",
   "execution_count": null,
   "metadata": {
    "collapsed": true
   },
   "outputs": [],
   "source": []
  }
 ],
 "metadata": {
  "kernelspec": {
   "display_name": "Python 3",
   "language": "python",
   "name": "python3"
  },
  "language_info": {
   "codemirror_mode": {
    "name": "ipython",
    "version": 3
   },
   "file_extension": ".py",
   "mimetype": "text/x-python",
   "name": "python",
   "nbconvert_exporter": "python",
   "pygments_lexer": "ipython3",
   "version": "3.6.3"
  }
 },
 "nbformat": 4,
 "nbformat_minor": 2
}
