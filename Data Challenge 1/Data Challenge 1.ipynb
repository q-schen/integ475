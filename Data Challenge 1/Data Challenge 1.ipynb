{
 "cells": [
  {
   "cell_type": "markdown",
   "metadata": {},
   "source": [
    "# Data Challenge 1: Scrape and Crawl\n",
    "This is the Jupyter Notebook for the first Data Challenge of Winter 2018 INTEG 475.\n",
    "\n",
    "## Group Members\n",
    "Q Chen\n",
    "\n",
    "Amy Lu\n",
    "\n",
    "Kevin Zhang"
   ]
  },
  {
   "cell_type": "markdown",
   "metadata": {},
   "source": [
    "## Beginner Challenge\n",
    "Pick a single registered charity and write a series of functions to scrape:\n",
    "1. Schedule 6 financial data\n",
    "2. data on directors/trustees and like officials, and\n",
    "3. data on employee compensation\n",
    "\n",
    "Write the output to a series of .csv files. Your notebook should include text / comments that explain the logic of each\n",
    "substantial chunk of code. If you don’t explain what you are doing, and why you made the decisions you did, you will not\n",
    "get full marks."
   ]
  },
  {
   "cell_type": "markdown",
   "metadata": {},
   "source": [
    "## Advanced Challenge\n",
    "Make a list of 25-30 non-profit organizations (more specifically registered charities) in Canada that specialize in international\n",
    "development. Using Scrapy, beautiful soup, and / or pandas, crawl the Canada Revenue Agency Charities Listings\n",
    "and scrape data on the following for each organization from 2000-2017:\n",
    "1. Schedule 6 financial data\n",
    "2. data on directors/trustees and like officials, and\n",
    "3. data on employee compensation\n",
    "You must have a solution for dealing with “missing” data (e.g. an organization is founded after 2000). Write the results\n",
    "out in 6 .csv files: one for assets, one for revenue, one for expenditures, one for liabilities, one for directors and trustees,\n",
    "and one for compensation.\n",
    "You can submit scripts or notebooks. Regardless of the format, I expect you to include text / comments that explain the\n",
    "logic of each substantial chunk of code. If you don’t explain what you are doing, and why you made the decisions you did\n",
    "(e.g. more readable with list comprehension), you will not get full marks."
   ]
  },
  {
   "cell_type": "code",
   "execution_count": null,
   "metadata": {
    "collapsed": true
   },
   "outputs": [],
   "source": []
  },
  {
   "cell_type": "code",
   "execution_count": null,
   "metadata": {
    "collapsed": true
   },
   "outputs": [],
   "source": []
  }
 ],
 "metadata": {
  "kernelspec": {
   "display_name": "Python 3",
   "language": "python",
   "name": "python3"
  },
  "language_info": {
   "codemirror_mode": {
    "name": "ipython",
    "version": 3
   },
   "file_extension": ".py",
   "mimetype": "text/x-python",
   "name": "python",
   "nbconvert_exporter": "python",
   "pygments_lexer": "ipython3",
   "version": "3.6.3"
  }
 },
 "nbformat": 4,
 "nbformat_minor": 2
}
