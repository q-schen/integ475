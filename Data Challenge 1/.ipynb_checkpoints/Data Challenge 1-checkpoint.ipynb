{
 "cells": [
  {
   "cell_type": "markdown",
   "metadata": {},
   "source": [
    "# Data Challenge 1: Scrape and Crawl\n",
    "This is the Jupyter Notebook for the first Data Challenge of Winter 2018 INTEG 475.\n",
    "\n",
    "## Group Members\n",
    "Q Chen\n",
    "\n",
    "Amy Lu\n",
    "\n",
    "Kevin Zhang"
   ]
  },
  {
   "cell_type": "markdown",
   "metadata": {},
   "source": [
    "## Beginner Challenge\n",
    "Pick a single registered charity and write a series of functions to scrape:\n",
    "1. Schedule 6 financial data\n",
    "2. data on directors/trustees and like officials, and\n",
    "3. data on employee compensation\n",
    "\n",
    "Write the output to a series of .csv files. Your notebook should include text / comments that explain the logic of each\n",
    "substantial chunk of code. If you don’t explain what you are doing, and why you made the decisions you did, you will not get full marks."
   ]
  },
  {
   "cell_type": "code",
   "execution_count": 1,
   "metadata": {
    "collapsed": true
   },
   "outputs": [],
   "source": [
    "# Schedule 6 - Financial Data\n",
    "sched6url = \"http://www.cra-arc.gc.ca/ebci/haip/srch/t3010form23sched6-eng.action?b=118983329RR0001&fpe=2016-06-30&n=KITCHENER+ROTARY+CLUB+CHARITABLE+FOUNDATION&r=http%3A%2F%2Fwww.cra-arc.gc.ca%3A80%2Febci%2Fhaip%2Fsrch%2Ft3010form23-eng.action%3Fb%3D118983329RR0001%26amp%3Bfpe%3D2016-06-30%26amp%3Bn%3DKITCHENER%2BROTARY%2BCLUB%2BCHARITABLE%2BFOUNDATION\""
   ]
  },
  {
   "cell_type": "code",
   "execution_count": 2,
   "metadata": {
    "collapsed": true
   },
   "outputs": [],
   "source": [
    "# Section B - data on directors/trustees and like officials\n",
    "sectionBurl = \"http://www.cra-arc.gc.ca/ebci/haip/srch/t3010form23officers-eng.action?b=118983329RR0001&fpe=2016-06-30&n=KITCHENER+ROTARY+CLUB+CHARITABLE+FOUNDATION\""
   ]
  },
  {
   "cell_type": "code",
   "execution_count": 4,
   "metadata": {
    "collapsed": true
   },
   "outputs": [],
   "source": [
    "# Schedule 3 - Data on Employee Compensation\n",
    "## Q: I asked John, and he said because our charity doesn't have data on employee compensation,\n",
    "## we can just make a note in the notebook that that is the case, and we don't have to scrape it.\n",
    "sched3url = \"http://www.cra-arc.gc.ca/ebci/haip/srch/t3010form23sched3-eng.action?b=118983329RR0001&fpe=2016-06-30&n=KITCHENER+ROTARY+CLUB+CHARITABLE+FOUNDATION&r=http%3A%2F%2Fwww.cra-arc.gc.ca%3A80%2Febci%2Fhaip%2Fsrch%2Ft3010form23-eng.action%3Fb%3D118983329RR0001%26amp%3Bfpe%3D2016-06-30%26amp%3Bn%3DKITCHENER%2BROTARY%2BCLUB%2BCHARITABLE%2BFOUNDATION\""
   ]
  },
  {
   "cell_type": "code",
   "execution_count": null,
   "metadata": {
    "collapsed": true
   },
   "outputs": [],
   "source": []
  },
  {
   "cell_type": "code",
   "execution_count": null,
   "metadata": {
    "collapsed": true
   },
   "outputs": [],
   "source": []
  },
  {
   "cell_type": "markdown",
   "metadata": {},
   "source": [
    "## Advanced Challenge\n",
    "Make a list of 25-30 non-profit organizations (more specifically registered charities) in Canada that specialize in international\n",
    "development. Using Scrapy, Beautiful Soup, and / or Pandas, crawl the Canada Revenue Agency Charities Listings\n",
    "and scrape data on the following for each organization from 2000-2017:\n",
    "1. Schedule 6 financial data\n",
    "2. data on directors/trustees and like officials, and\n",
    "3. data on employee compensation\n",
    "\n",
    "You must have a solution for dealing with “missing” data (e.g. an organization is founded after 2000). Write the results out in 6 .csv files: one for assets, one for revenue, one for expenditures, one for liabilities, one for directors and trustees, and one for compensation.\n",
    "\n",
    "You can submit scripts or notebooks. Regardless of the format, I expect you to include text / comments that explain the\n",
    "logic of each substantial chunk of code. If you don’t explain what you are doing, and why you made the decisions you did (e.g. more readable with list comprehension), you will not get full marks."
   ]
  }
 ],
 "metadata": {
  "kernelspec": {
   "display_name": "Python 3",
   "language": "python",
   "name": "python3"
  },
  "language_info": {
   "codemirror_mode": {
    "name": "ipython",
    "version": 3
   },
   "file_extension": ".py",
   "mimetype": "text/x-python",
   "name": "python",
   "nbconvert_exporter": "python",
   "pygments_lexer": "ipython3",
   "version": "3.6.3"
  }
 },
 "nbformat": 4,
 "nbformat_minor": 2
}
